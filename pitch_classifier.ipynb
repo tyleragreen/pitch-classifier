{
 "cells": [
  {
   "cell_type": "markdown",
   "metadata": {},
   "source": [
    "# Pitch Classifier"
   ]
  },
  {
   "cell_type": "code",
   "execution_count": 1,
   "metadata": {},
   "outputs": [],
   "source": [
    "COLORS = {\n",
    "    'FF': 'red',\n",
    "    'SL': 'green',\n",
    "    'FS': 'blue',\n",
    "    'CH': 'orange',\n",
    "    'CU': 'grey',\n",
    "    'SI': 'purple',\n",
    "    'FT': 'brown',\n",
    "}"
   ]
  },
  {
   "cell_type": "code",
   "execution_count": 2,
   "metadata": {},
   "outputs": [],
   "source": [
    "PITCH_TYPE_LABELS = {\n",
    "    'FA': 'fastball',\n",
    "    'FF': 'four-seam fastball',\n",
    "    'FT': 'two-seam fastball',\n",
    "    'FC': 'cutter',\n",
    "    'FS': 'fastball',\n",
    "    'SI': 'sinker',\n",
    "    'FS': 'split-fingered fastball',\n",
    "    'SL': 'slider',\n",
    "    'CH': 'changeup',\n",
    "    'CB': 'curveball',\n",
    "    'CU': 'curveball',\n",
    "    'KC': 'knuckle-curve',\n",
    "    'KN': 'knuckleball',\n",
    "    'EP': 'eephus',\n",
    "    'UN': 'unidentified',\n",
    "    'XX': 'unidentified',\n",
    "    'PO': 'pitch out',\n",
    "    'FO': 'pitch out',\n",
    "}"
   ]
  },
  {
   "cell_type": "markdown",
   "metadata": {},
   "source": [
    "## Load the Data"
   ]
  },
  {
   "cell_type": "code",
   "execution_count": 3,
   "metadata": {},
   "outputs": [],
   "source": [
    "import pandas as pd"
   ]
  },
  {
   "cell_type": "code",
   "execution_count": 4,
   "metadata": {},
   "outputs": [],
   "source": [
    "pitches = pd.read_csv('data/2019-06-17_547888_Tanaka.csv')"
   ]
  },
  {
   "cell_type": "code",
   "execution_count": 5,
   "metadata": {},
   "outputs": [
    {
     "data": {
      "text/html": [
       "<div>\n",
       "<style scoped>\n",
       "    .dataframe tbody tr th:only-of-type {\n",
       "        vertical-align: middle;\n",
       "    }\n",
       "\n",
       "    .dataframe tbody tr th {\n",
       "        vertical-align: top;\n",
       "    }\n",
       "\n",
       "    .dataframe thead th {\n",
       "        text-align: right;\n",
       "    }\n",
       "</style>\n",
       "<table border=\"1\" class=\"dataframe\">\n",
       "  <thead>\n",
       "    <tr style=\"text-align: right;\">\n",
       "      <th></th>\n",
       "      <th>start_speed</th>\n",
       "      <th>pfx_x</th>\n",
       "      <th>pfx_z</th>\n",
       "      <th>mlbam_pitch_name</th>\n",
       "    </tr>\n",
       "  </thead>\n",
       "  <tbody>\n",
       "    <tr>\n",
       "      <th>0</th>\n",
       "      <td>91.87</td>\n",
       "      <td>-4.517746</td>\n",
       "      <td>9.332202</td>\n",
       "      <td>FF</td>\n",
       "    </tr>\n",
       "    <tr>\n",
       "      <th>1</th>\n",
       "      <td>83.05</td>\n",
       "      <td>1.624604</td>\n",
       "      <td>1.942790</td>\n",
       "      <td>SL</td>\n",
       "    </tr>\n",
       "    <tr>\n",
       "      <th>2</th>\n",
       "      <td>91.21</td>\n",
       "      <td>-7.260078</td>\n",
       "      <td>7.255023</td>\n",
       "      <td>FF</td>\n",
       "    </tr>\n",
       "    <tr>\n",
       "      <th>3</th>\n",
       "      <td>81.80</td>\n",
       "      <td>4.409871</td>\n",
       "      <td>0.787128</td>\n",
       "      <td>SL</td>\n",
       "    </tr>\n",
       "    <tr>\n",
       "      <th>4</th>\n",
       "      <td>80.63</td>\n",
       "      <td>5.149924</td>\n",
       "      <td>2.596144</td>\n",
       "      <td>SL</td>\n",
       "    </tr>\n",
       "  </tbody>\n",
       "</table>\n",
       "</div>"
      ],
      "text/plain": [
       "   start_speed     pfx_x     pfx_z mlbam_pitch_name\n",
       "0        91.87 -4.517746  9.332202               FF\n",
       "1        83.05  1.624604  1.942790               SL\n",
       "2        91.21 -7.260078  7.255023               FF\n",
       "3        81.80  4.409871  0.787128               SL\n",
       "4        80.63  5.149924  2.596144               SL"
      ]
     },
     "execution_count": 5,
     "metadata": {},
     "output_type": "execute_result"
    }
   ],
   "source": [
    "pitches.head()"
   ]
  },
  {
   "cell_type": "code",
   "execution_count": 6,
   "metadata": {},
   "outputs": [
    {
     "data": {
      "text/plain": [
       "Index(['start_speed', 'pfx_x', 'pfx_z', 'mlbam_pitch_name'], dtype='object')"
      ]
     },
     "execution_count": 6,
     "metadata": {},
     "output_type": "execute_result"
    }
   ],
   "source": [
    "pitches.columns"
   ]
  },
  {
   "cell_type": "code",
   "execution_count": 7,
   "metadata": {},
   "outputs": [],
   "source": [
    "import matplotlib.pyplot as plt\n",
    "%matplotlib inline"
   ]
  },
  {
   "cell_type": "code",
   "execution_count": 8,
   "metadata": {},
   "outputs": [],
   "source": [
    "import numpy as np"
   ]
  },
  {
   "cell_type": "code",
   "execution_count": 9,
   "metadata": {},
   "outputs": [
    {
     "data": {
      "text/plain": [
       "array(['FF', 'SL', 'FS', 'CH', 'CU', 'SI', 'FT'], dtype=object)"
      ]
     },
     "execution_count": 9,
     "metadata": {},
     "output_type": "execute_result"
    }
   ],
   "source": [
    "pitch_types = pitches['mlbam_pitch_name'].unique()\n",
    "pitch_types"
   ]
  },
  {
   "cell_type": "code",
   "execution_count": 10,
   "metadata": {},
   "outputs": [],
   "source": [
    "colors = [ COLORS.get(pitch_type, 'black') for pitch_type in pitches['mlbam_pitch_name']]"
   ]
  },
  {
   "cell_type": "code",
   "execution_count": 43,
   "metadata": {},
   "outputs": [
    {
     "data": {
      "text/plain": [
       "<matplotlib.collections.PathCollection at 0x1072616a0>"
      ]
     },
     "execution_count": 43,
     "metadata": {},
     "output_type": "execute_result"
    },
    {
     "data": {
      "image/png": "[encoded data removed]",
      "text/plain": [
       "<Figure size 432x288 with 1 Axes>"
      ]
     },
     "metadata": {
      "needs_background": "light"
     },
     "output_type": "display_data"
    }
   ],
   "source": [
    "plt.scatter(pitches['pfx_x'], pitches['start_speed'], c=colors)"
   ]
  },
  {
   "cell_type": "code",
   "execution_count": 12,
   "metadata": {},
   "outputs": [
    {
     "data": {
      "text/plain": [
       "<matplotlib.collections.PathCollection at 0x114d0b470>"
      ]
     },
     "execution_count": 12,
     "metadata": {},
     "output_type": "execute_result"
    },
    {
     "data": {
      "image/png": "[encoded data removed]",
      "text/plain": [
       "<Figure size 432x288 with 1 Axes>"
      ]
     },
     "metadata": {
      "needs_background": "light"
     },
     "output_type": "display_data"
    }
   ],
   "source": [
    "plt.scatter(pitches['pfx_x'], pitches['pfx_z'], c=colors)"
   ]
  },
  {
   "cell_type": "markdown",
   "metadata": {},
   "source": [
    "## Normalize the Data"
   ]
  },
  {
   "cell_type": "code",
   "execution_count": 13,
   "metadata": {},
   "outputs": [],
   "source": [
    "cols_to_norm = ['start_speed', 'pfx_x', 'pfx_z']"
   ]
  },
  {
   "cell_type": "code",
   "execution_count": 14,
   "metadata": {},
   "outputs": [],
   "source": [
    "pitches[cols_to_norm] = pitches[cols_to_norm].apply(lambda x: (x-x.min()) / (x.max() - x.min()))"
   ]
  },
  {
   "cell_type": "code",
   "execution_count": 15,
   "metadata": {},
   "outputs": [],
   "source": [
    "pitches['pitch_type'] = pitches['mlbam_pitch_name'].apply(lambda type_code: int(np.where(pitch_types == type_code)[0]))"
   ]
  },
  {
   "cell_type": "code",
   "execution_count": 16,
   "metadata": {},
   "outputs": [
    {
     "data": {
      "text/html": [
       "<div>\n",
       "<style scoped>\n",
       "    .dataframe tbody tr th:only-of-type {\n",
       "        vertical-align: middle;\n",
       "    }\n",
       "\n",
       "    .dataframe tbody tr th {\n",
       "        vertical-align: top;\n",
       "    }\n",
       "\n",
       "    .dataframe thead th {\n",
       "        text-align: right;\n",
       "    }\n",
       "</style>\n",
       "<table border=\"1\" class=\"dataframe\">\n",
       "  <thead>\n",
       "    <tr style=\"text-align: right;\">\n",
       "      <th></th>\n",
       "      <th>start_speed</th>\n",
       "      <th>pfx_x</th>\n",
       "      <th>pfx_z</th>\n",
       "      <th>mlbam_pitch_name</th>\n",
       "      <th>pitch_type</th>\n",
       "    </tr>\n",
       "  </thead>\n",
       "  <tbody>\n",
       "    <tr>\n",
       "      <th>0</th>\n",
       "      <td>0.926975</td>\n",
       "      <td>0.339739</td>\n",
       "      <td>0.970198</td>\n",
       "      <td>FF</td>\n",
       "      <td>0</td>\n",
       "    </tr>\n",
       "    <tr>\n",
       "      <th>1</th>\n",
       "      <td>0.488823</td>\n",
       "      <td>0.660851</td>\n",
       "      <td>0.508245</td>\n",
       "      <td>SL</td>\n",
       "      <td>1</td>\n",
       "    </tr>\n",
       "    <tr>\n",
       "      <th>2</th>\n",
       "      <td>0.894188</td>\n",
       "      <td>0.196375</td>\n",
       "      <td>0.840342</td>\n",
       "      <td>FF</td>\n",
       "      <td>0</td>\n",
       "    </tr>\n",
       "    <tr>\n",
       "      <th>3</th>\n",
       "      <td>0.426726</td>\n",
       "      <td>0.806460</td>\n",
       "      <td>0.435998</td>\n",
       "      <td>SL</td>\n",
       "      <td>1</td>\n",
       "    </tr>\n",
       "    <tr>\n",
       "      <th>4</th>\n",
       "      <td>0.368604</td>\n",
       "      <td>0.845149</td>\n",
       "      <td>0.549089</td>\n",
       "      <td>SL</td>\n",
       "      <td>1</td>\n",
       "    </tr>\n",
       "    <tr>\n",
       "      <th>5</th>\n",
       "      <td>0.500248</td>\n",
       "      <td>0.705539</td>\n",
       "      <td>0.389609</td>\n",
       "      <td>SL</td>\n",
       "      <td>1</td>\n",
       "    </tr>\n",
       "    <tr>\n",
       "      <th>6</th>\n",
       "      <td>0.391456</td>\n",
       "      <td>0.766764</td>\n",
       "      <td>0.466536</td>\n",
       "      <td>SL</td>\n",
       "      <td>1</td>\n",
       "    </tr>\n",
       "    <tr>\n",
       "      <th>7</th>\n",
       "      <td>0.397417</td>\n",
       "      <td>0.755568</td>\n",
       "      <td>0.547089</td>\n",
       "      <td>SL</td>\n",
       "      <td>1</td>\n",
       "    </tr>\n",
       "    <tr>\n",
       "      <th>8</th>\n",
       "      <td>0.711873</td>\n",
       "      <td>0.223302</td>\n",
       "      <td>0.549351</td>\n",
       "      <td>FS</td>\n",
       "      <td>2</td>\n",
       "    </tr>\n",
       "    <tr>\n",
       "      <th>9</th>\n",
       "      <td>0.442126</td>\n",
       "      <td>0.967574</td>\n",
       "      <td>0.412910</td>\n",
       "      <td>SL</td>\n",
       "      <td>1</td>\n",
       "    </tr>\n",
       "    <tr>\n",
       "      <th>10</th>\n",
       "      <td>0.828117</td>\n",
       "      <td>0.245084</td>\n",
       "      <td>0.945302</td>\n",
       "      <td>FF</td>\n",
       "      <td>0</td>\n",
       "    </tr>\n",
       "    <tr>\n",
       "      <th>11</th>\n",
       "      <td>0.511177</td>\n",
       "      <td>0.698108</td>\n",
       "      <td>0.423778</td>\n",
       "      <td>SL</td>\n",
       "      <td>1</td>\n",
       "    </tr>\n",
       "    <tr>\n",
       "      <th>12</th>\n",
       "      <td>0.690512</td>\n",
       "      <td>0.057540</td>\n",
       "      <td>0.713769</td>\n",
       "      <td>FS</td>\n",
       "      <td>2</td>\n",
       "    </tr>\n",
       "    <tr>\n",
       "      <th>13</th>\n",
       "      <td>0.723795</td>\n",
       "      <td>0.182922</td>\n",
       "      <td>0.511328</td>\n",
       "      <td>CH</td>\n",
       "      <td>3</td>\n",
       "    </tr>\n",
       "    <tr>\n",
       "      <th>14</th>\n",
       "      <td>0.675609</td>\n",
       "      <td>0.177501</td>\n",
       "      <td>0.601007</td>\n",
       "      <td>FS</td>\n",
       "      <td>2</td>\n",
       "    </tr>\n",
       "    <tr>\n",
       "      <th>15</th>\n",
       "      <td>0.873820</td>\n",
       "      <td>0.281463</td>\n",
       "      <td>0.790225</td>\n",
       "      <td>FF</td>\n",
       "      <td>0</td>\n",
       "    </tr>\n",
       "    <tr>\n",
       "      <th>16</th>\n",
       "      <td>0.730750</td>\n",
       "      <td>0.162906</td>\n",
       "      <td>0.579932</td>\n",
       "      <td>FS</td>\n",
       "      <td>2</td>\n",
       "    </tr>\n",
       "    <tr>\n",
       "      <th>17</th>\n",
       "      <td>0.464481</td>\n",
       "      <td>0.732403</td>\n",
       "      <td>0.351234</td>\n",
       "      <td>SL</td>\n",
       "      <td>1</td>\n",
       "    </tr>\n",
       "    <tr>\n",
       "      <th>18</th>\n",
       "      <td>0.698460</td>\n",
       "      <td>0.210541</td>\n",
       "      <td>0.540037</td>\n",
       "      <td>FS</td>\n",
       "      <td>2</td>\n",
       "    </tr>\n",
       "    <tr>\n",
       "      <th>19</th>\n",
       "      <td>0.850969</td>\n",
       "      <td>0.365211</td>\n",
       "      <td>0.849006</td>\n",
       "      <td>FF</td>\n",
       "      <td>0</td>\n",
       "    </tr>\n",
       "    <tr>\n",
       "      <th>20</th>\n",
       "      <td>0.867362</td>\n",
       "      <td>0.243374</td>\n",
       "      <td>0.922083</td>\n",
       "      <td>FF</td>\n",
       "      <td>0</td>\n",
       "    </tr>\n",
       "    <tr>\n",
       "      <th>21</th>\n",
       "      <td>0.698460</td>\n",
       "      <td>0.250164</td>\n",
       "      <td>0.422730</td>\n",
       "      <td>CH</td>\n",
       "      <td>3</td>\n",
       "    </tr>\n",
       "    <tr>\n",
       "      <th>22</th>\n",
       "      <td>0.716344</td>\n",
       "      <td>0.186639</td>\n",
       "      <td>0.656330</td>\n",
       "      <td>FS</td>\n",
       "      <td>2</td>\n",
       "    </tr>\n",
       "    <tr>\n",
       "      <th>23</th>\n",
       "      <td>0.492300</td>\n",
       "      <td>0.855655</td>\n",
       "      <td>0.259739</td>\n",
       "      <td>SL</td>\n",
       "      <td>1</td>\n",
       "    </tr>\n",
       "    <tr>\n",
       "      <th>24</th>\n",
       "      <td>0.648783</td>\n",
       "      <td>0.173377</td>\n",
       "      <td>0.608464</td>\n",
       "      <td>FS</td>\n",
       "      <td>2</td>\n",
       "    </tr>\n",
       "    <tr>\n",
       "      <th>25</th>\n",
       "      <td>0.557377</td>\n",
       "      <td>0.914644</td>\n",
       "      <td>0.274105</td>\n",
       "      <td>SL</td>\n",
       "      <td>1</td>\n",
       "    </tr>\n",
       "    <tr>\n",
       "      <th>26</th>\n",
       "      <td>0.527571</td>\n",
       "      <td>0.695907</td>\n",
       "      <td>0.364519</td>\n",
       "      <td>SL</td>\n",
       "      <td>1</td>\n",
       "    </tr>\n",
       "    <tr>\n",
       "      <th>27</th>\n",
       "      <td>0.499752</td>\n",
       "      <td>0.711467</td>\n",
       "      <td>0.448847</td>\n",
       "      <td>SL</td>\n",
       "      <td>1</td>\n",
       "    </tr>\n",
       "    <tr>\n",
       "      <th>28</th>\n",
       "      <td>0.964729</td>\n",
       "      <td>0.288340</td>\n",
       "      <td>0.956766</td>\n",
       "      <td>FF</td>\n",
       "      <td>0</td>\n",
       "    </tr>\n",
       "    <tr>\n",
       "      <th>29</th>\n",
       "      <td>0.426230</td>\n",
       "      <td>0.957351</td>\n",
       "      <td>0.275176</td>\n",
       "      <td>SL</td>\n",
       "      <td>1</td>\n",
       "    </tr>\n",
       "    <tr>\n",
       "      <th>...</th>\n",
       "      <td>...</td>\n",
       "      <td>...</td>\n",
       "      <td>...</td>\n",
       "      <td>...</td>\n",
       "      <td>...</td>\n",
       "    </tr>\n",
       "    <tr>\n",
       "      <th>65</th>\n",
       "      <td>0.910581</td>\n",
       "      <td>0.302830</td>\n",
       "      <td>0.931543</td>\n",
       "      <td>FF</td>\n",
       "      <td>0</td>\n",
       "    </tr>\n",
       "    <tr>\n",
       "      <th>66</th>\n",
       "      <td>0.501739</td>\n",
       "      <td>0.927554</td>\n",
       "      <td>0.334228</td>\n",
       "      <td>SL</td>\n",
       "      <td>1</td>\n",
       "    </tr>\n",
       "    <tr>\n",
       "      <th>67</th>\n",
       "      <td>0.725286</td>\n",
       "      <td>0.231127</td>\n",
       "      <td>0.617325</td>\n",
       "      <td>CH</td>\n",
       "      <td>3</td>\n",
       "    </tr>\n",
       "    <tr>\n",
       "      <th>68</th>\n",
       "      <td>0.509687</td>\n",
       "      <td>0.713775</td>\n",
       "      <td>0.379062</td>\n",
       "      <td>SL</td>\n",
       "      <td>1</td>\n",
       "    </tr>\n",
       "    <tr>\n",
       "      <th>69</th>\n",
       "      <td>0.768008</td>\n",
       "      <td>0.102993</td>\n",
       "      <td>0.846157</td>\n",
       "      <td>FS</td>\n",
       "      <td>2</td>\n",
       "    </tr>\n",
       "    <tr>\n",
       "      <th>70</th>\n",
       "      <td>0.635867</td>\n",
       "      <td>0.672704</td>\n",
       "      <td>0.476918</td>\n",
       "      <td>SL</td>\n",
       "      <td>1</td>\n",
       "    </tr>\n",
       "    <tr>\n",
       "      <th>71</th>\n",
       "      <td>0.748137</td>\n",
       "      <td>0.205774</td>\n",
       "      <td>0.477969</td>\n",
       "      <td>FS</td>\n",
       "      <td>2</td>\n",
       "    </tr>\n",
       "    <tr>\n",
       "      <th>72</th>\n",
       "      <td>0.849478</td>\n",
       "      <td>0.234496</td>\n",
       "      <td>0.949242</td>\n",
       "      <td>FF</td>\n",
       "      <td>0</td>\n",
       "    </tr>\n",
       "    <tr>\n",
       "      <th>73</th>\n",
       "      <td>0.637854</td>\n",
       "      <td>0.648843</td>\n",
       "      <td>0.432987</td>\n",
       "      <td>SL</td>\n",
       "      <td>1</td>\n",
       "    </tr>\n",
       "    <tr>\n",
       "      <th>74</th>\n",
       "      <td>0.887233</td>\n",
       "      <td>0.270547</td>\n",
       "      <td>1.000000</td>\n",
       "      <td>FF</td>\n",
       "      <td>0</td>\n",
       "    </tr>\n",
       "    <tr>\n",
       "      <th>75</th>\n",
       "      <td>0.904123</td>\n",
       "      <td>0.064091</td>\n",
       "      <td>0.597019</td>\n",
       "      <td>SI</td>\n",
       "      <td>5</td>\n",
       "    </tr>\n",
       "    <tr>\n",
       "      <th>76</th>\n",
       "      <td>0.879781</td>\n",
       "      <td>0.222858</td>\n",
       "      <td>0.917605</td>\n",
       "      <td>FF</td>\n",
       "      <td>0</td>\n",
       "    </tr>\n",
       "    <tr>\n",
       "      <th>77</th>\n",
       "      <td>0.923000</td>\n",
       "      <td>0.069416</td>\n",
       "      <td>0.605925</td>\n",
       "      <td>SI</td>\n",
       "      <td>5</td>\n",
       "    </tr>\n",
       "    <tr>\n",
       "      <th>78</th>\n",
       "      <td>0.125186</td>\n",
       "      <td>1.000000</td>\n",
       "      <td>0.028208</td>\n",
       "      <td>CU</td>\n",
       "      <td>4</td>\n",
       "    </tr>\n",
       "    <tr>\n",
       "      <th>79</th>\n",
       "      <td>0.759563</td>\n",
       "      <td>0.212005</td>\n",
       "      <td>0.657779</td>\n",
       "      <td>FS</td>\n",
       "      <td>2</td>\n",
       "    </tr>\n",
       "    <tr>\n",
       "      <th>80</th>\n",
       "      <td>0.418281</td>\n",
       "      <td>0.806817</td>\n",
       "      <td>0.458456</td>\n",
       "      <td>CU</td>\n",
       "      <td>4</td>\n",
       "    </tr>\n",
       "    <tr>\n",
       "      <th>81</th>\n",
       "      <td>0.512668</td>\n",
       "      <td>0.862630</td>\n",
       "      <td>0.402221</td>\n",
       "      <td>SL</td>\n",
       "      <td>1</td>\n",
       "    </tr>\n",
       "    <tr>\n",
       "      <th>82</th>\n",
       "      <td>0.537009</td>\n",
       "      <td>0.831489</td>\n",
       "      <td>0.318380</td>\n",
       "      <td>SL</td>\n",
       "      <td>1</td>\n",
       "    </tr>\n",
       "    <tr>\n",
       "      <th>83</th>\n",
       "      <td>0.737208</td>\n",
       "      <td>0.190658</td>\n",
       "      <td>0.666108</td>\n",
       "      <td>FS</td>\n",
       "      <td>2</td>\n",
       "    </tr>\n",
       "    <tr>\n",
       "      <th>84</th>\n",
       "      <td>0.529061</td>\n",
       "      <td>0.765735</td>\n",
       "      <td>0.394446</td>\n",
       "      <td>SL</td>\n",
       "      <td>1</td>\n",
       "    </tr>\n",
       "    <tr>\n",
       "      <th>85</th>\n",
       "      <td>0.704918</td>\n",
       "      <td>0.199920</td>\n",
       "      <td>0.659293</td>\n",
       "      <td>SL</td>\n",
       "      <td>1</td>\n",
       "    </tr>\n",
       "    <tr>\n",
       "      <th>86</th>\n",
       "      <td>0.875807</td>\n",
       "      <td>0.298617</td>\n",
       "      <td>0.888029</td>\n",
       "      <td>FF</td>\n",
       "      <td>0</td>\n",
       "    </tr>\n",
       "    <tr>\n",
       "      <th>87</th>\n",
       "      <td>0.658222</td>\n",
       "      <td>0.296608</td>\n",
       "      <td>0.550298</td>\n",
       "      <td>FS</td>\n",
       "      <td>2</td>\n",
       "    </tr>\n",
       "    <tr>\n",
       "      <th>88</th>\n",
       "      <td>0.547938</td>\n",
       "      <td>0.713238</td>\n",
       "      <td>0.497807</td>\n",
       "      <td>SL</td>\n",
       "      <td>1</td>\n",
       "    </tr>\n",
       "    <tr>\n",
       "      <th>89</th>\n",
       "      <td>0.775956</td>\n",
       "      <td>0.198012</td>\n",
       "      <td>0.585703</td>\n",
       "      <td>FT</td>\n",
       "      <td>6</td>\n",
       "    </tr>\n",
       "    <tr>\n",
       "      <th>90</th>\n",
       "      <td>0.949826</td>\n",
       "      <td>0.289541</td>\n",
       "      <td>0.959489</td>\n",
       "      <td>FF</td>\n",
       "      <td>0</td>\n",
       "    </tr>\n",
       "    <tr>\n",
       "      <th>91</th>\n",
       "      <td>0.421759</td>\n",
       "      <td>0.832320</td>\n",
       "      <td>0.369198</td>\n",
       "      <td>SL</td>\n",
       "      <td>1</td>\n",
       "    </tr>\n",
       "    <tr>\n",
       "      <th>92</th>\n",
       "      <td>0.477894</td>\n",
       "      <td>0.872955</td>\n",
       "      <td>0.307065</td>\n",
       "      <td>SL</td>\n",
       "      <td>1</td>\n",
       "    </tr>\n",
       "    <tr>\n",
       "      <th>93</th>\n",
       "      <td>0.488823</td>\n",
       "      <td>0.702353</td>\n",
       "      <td>0.456947</td>\n",
       "      <td>SL</td>\n",
       "      <td>1</td>\n",
       "    </tr>\n",
       "    <tr>\n",
       "      <th>94</th>\n",
       "      <td>0.572777</td>\n",
       "      <td>0.733559</td>\n",
       "      <td>0.413978</td>\n",
       "      <td>SL</td>\n",
       "      <td>1</td>\n",
       "    </tr>\n",
       "  </tbody>\n",
       "</table>\n",
       "<p>95 rows × 5 columns</p>\n",
       "</div>"
      ],
      "text/plain": [
       "    start_speed     pfx_x     pfx_z mlbam_pitch_name  pitch_type\n",
       "0      0.926975  0.339739  0.970198               FF           0\n",
       "1      0.488823  0.660851  0.508245               SL           1\n",
       "2      0.894188  0.196375  0.840342               FF           0\n",
       "3      0.426726  0.806460  0.435998               SL           1\n",
       "4      0.368604  0.845149  0.549089               SL           1\n",
       "5      0.500248  0.705539  0.389609               SL           1\n",
       "6      0.391456  0.766764  0.466536               SL           1\n",
       "7      0.397417  0.755568  0.547089               SL           1\n",
       "8      0.711873  0.223302  0.549351               FS           2\n",
       "9      0.442126  0.967574  0.412910               SL           1\n",
       "10     0.828117  0.245084  0.945302               FF           0\n",
       "11     0.511177  0.698108  0.423778               SL           1\n",
       "12     0.690512  0.057540  0.713769               FS           2\n",
       "13     0.723795  0.182922  0.511328               CH           3\n",
       "14     0.675609  0.177501  0.601007               FS           2\n",
       "15     0.873820  0.281463  0.790225               FF           0\n",
       "16     0.730750  0.162906  0.579932               FS           2\n",
       "17     0.464481  0.732403  0.351234               SL           1\n",
       "18     0.698460  0.210541  0.540037               FS           2\n",
       "19     0.850969  0.365211  0.849006               FF           0\n",
       "20     0.867362  0.243374  0.922083               FF           0\n",
       "21     0.698460  0.250164  0.422730               CH           3\n",
       "22     0.716344  0.186639  0.656330               FS           2\n",
       "23     0.492300  0.855655  0.259739               SL           1\n",
       "24     0.648783  0.173377  0.608464               FS           2\n",
       "25     0.557377  0.914644  0.274105               SL           1\n",
       "26     0.527571  0.695907  0.364519               SL           1\n",
       "27     0.499752  0.711467  0.448847               SL           1\n",
       "28     0.964729  0.288340  0.956766               FF           0\n",
       "29     0.426230  0.957351  0.275176               SL           1\n",
       "..          ...       ...       ...              ...         ...\n",
       "65     0.910581  0.302830  0.931543               FF           0\n",
       "66     0.501739  0.927554  0.334228               SL           1\n",
       "67     0.725286  0.231127  0.617325               CH           3\n",
       "68     0.509687  0.713775  0.379062               SL           1\n",
       "69     0.768008  0.102993  0.846157               FS           2\n",
       "70     0.635867  0.672704  0.476918               SL           1\n",
       "71     0.748137  0.205774  0.477969               FS           2\n",
       "72     0.849478  0.234496  0.949242               FF           0\n",
       "73     0.637854  0.648843  0.432987               SL           1\n",
       "74     0.887233  0.270547  1.000000               FF           0\n",
       "75     0.904123  0.064091  0.597019               SI           5\n",
       "76     0.879781  0.222858  0.917605               FF           0\n",
       "77     0.923000  0.069416  0.605925               SI           5\n",
       "78     0.125186  1.000000  0.028208               CU           4\n",
       "79     0.759563  0.212005  0.657779               FS           2\n",
       "80     0.418281  0.806817  0.458456               CU           4\n",
       "81     0.512668  0.862630  0.402221               SL           1\n",
       "82     0.537009  0.831489  0.318380               SL           1\n",
       "83     0.737208  0.190658  0.666108               FS           2\n",
       "84     0.529061  0.765735  0.394446               SL           1\n",
       "85     0.704918  0.199920  0.659293               SL           1\n",
       "86     0.875807  0.298617  0.888029               FF           0\n",
       "87     0.658222  0.296608  0.550298               FS           2\n",
       "88     0.547938  0.713238  0.497807               SL           1\n",
       "89     0.775956  0.198012  0.585703               FT           6\n",
       "90     0.949826  0.289541  0.959489               FF           0\n",
       "91     0.421759  0.832320  0.369198               SL           1\n",
       "92     0.477894  0.872955  0.307065               SL           1\n",
       "93     0.488823  0.702353  0.456947               SL           1\n",
       "94     0.572777  0.733559  0.413978               SL           1\n",
       "\n",
       "[95 rows x 5 columns]"
      ]
     },
     "execution_count": 16,
     "metadata": {},
     "output_type": "execute_result"
    }
   ],
   "source": [
    "pitches"
   ]
  },
  {
   "cell_type": "code",
   "execution_count": 17,
   "metadata": {},
   "outputs": [],
   "source": [
    "import tensorflow as tf"
   ]
  },
  {
   "cell_type": "code",
   "execution_count": 18,
   "metadata": {},
   "outputs": [],
   "source": [
    "start_speed = tf.feature_column.numeric_column('start_speed')\n",
    "pfx_x = tf.feature_column.numeric_column('pfx_x')\n",
    "pfx_z = tf.feature_column.numeric_column('pfx_z')"
   ]
  },
  {
   "cell_type": "code",
   "execution_count": 19,
   "metadata": {},
   "outputs": [],
   "source": [
    "feat_cols = [start_speed, pfx_x, pfx_z]"
   ]
  },
  {
   "cell_type": "markdown",
   "metadata": {},
   "source": [
    "## Train Test Split"
   ]
  },
  {
   "cell_type": "code",
   "execution_count": 20,
   "metadata": {},
   "outputs": [
    {
     "name": "stdout",
     "output_type": "stream",
     "text": [
      "<class 'pandas.core.frame.DataFrame'>\n",
      "RangeIndex: 95 entries, 0 to 94\n",
      "Data columns (total 5 columns):\n",
      "start_speed         95 non-null float64\n",
      "pfx_x               95 non-null float64\n",
      "pfx_z               95 non-null float64\n",
      "mlbam_pitch_name    95 non-null object\n",
      "pitch_type          95 non-null int64\n",
      "dtypes: float64(3), int64(1), object(1)\n",
      "memory usage: 3.8+ KB\n"
     ]
    }
   ],
   "source": [
    "pitches.info()"
   ]
  },
  {
   "cell_type": "code",
   "execution_count": 21,
   "metadata": {},
   "outputs": [
    {
     "data": {
      "text/html": [
       "<div>\n",
       "<style scoped>\n",
       "    .dataframe tbody tr th:only-of-type {\n",
       "        vertical-align: middle;\n",
       "    }\n",
       "\n",
       "    .dataframe tbody tr th {\n",
       "        vertical-align: top;\n",
       "    }\n",
       "\n",
       "    .dataframe thead th {\n",
       "        text-align: right;\n",
       "    }\n",
       "</style>\n",
       "<table border=\"1\" class=\"dataframe\">\n",
       "  <thead>\n",
       "    <tr style=\"text-align: right;\">\n",
       "      <th></th>\n",
       "      <th>start_speed</th>\n",
       "      <th>pfx_x</th>\n",
       "      <th>pfx_z</th>\n",
       "    </tr>\n",
       "  </thead>\n",
       "  <tbody>\n",
       "    <tr>\n",
       "      <th>0</th>\n",
       "      <td>0.926975</td>\n",
       "      <td>0.339739</td>\n",
       "      <td>0.970198</td>\n",
       "    </tr>\n",
       "    <tr>\n",
       "      <th>1</th>\n",
       "      <td>0.488823</td>\n",
       "      <td>0.660851</td>\n",
       "      <td>0.508245</td>\n",
       "    </tr>\n",
       "    <tr>\n",
       "      <th>2</th>\n",
       "      <td>0.894188</td>\n",
       "      <td>0.196375</td>\n",
       "      <td>0.840342</td>\n",
       "    </tr>\n",
       "    <tr>\n",
       "      <th>3</th>\n",
       "      <td>0.426726</td>\n",
       "      <td>0.806460</td>\n",
       "      <td>0.435998</td>\n",
       "    </tr>\n",
       "    <tr>\n",
       "      <th>4</th>\n",
       "      <td>0.368604</td>\n",
       "      <td>0.845149</td>\n",
       "      <td>0.549089</td>\n",
       "    </tr>\n",
       "  </tbody>\n",
       "</table>\n",
       "</div>"
      ],
      "text/plain": [
       "   start_speed     pfx_x     pfx_z\n",
       "0     0.926975  0.339739  0.970198\n",
       "1     0.488823  0.660851  0.508245\n",
       "2     0.894188  0.196375  0.840342\n",
       "3     0.426726  0.806460  0.435998\n",
       "4     0.368604  0.845149  0.549089"
      ]
     },
     "execution_count": 21,
     "metadata": {},
     "output_type": "execute_result"
    }
   ],
   "source": [
    "x_data = pitches.drop(['mlbam_pitch_name','pitch_type'], axis=1)\n",
    "x_data.head()"
   ]
  },
  {
   "cell_type": "code",
   "execution_count": 22,
   "metadata": {},
   "outputs": [],
   "source": [
    "labels = pitches['pitch_type']"
   ]
  },
  {
   "cell_type": "code",
   "execution_count": 23,
   "metadata": {},
   "outputs": [],
   "source": [
    "from sklearn.model_selection import train_test_split"
   ]
  },
  {
   "cell_type": "code",
   "execution_count": 24,
   "metadata": {},
   "outputs": [],
   "source": [
    "X_train, X_test, y_train, y_test = train_test_split(x_data, labels, test_size=0.33, random_state=101)"
   ]
  },
  {
   "cell_type": "markdown",
   "metadata": {},
   "source": [
    "## Input Function"
   ]
  },
  {
   "cell_type": "code",
   "execution_count": 25,
   "metadata": {},
   "outputs": [],
   "source": [
    "input_func = tf.estimator.inputs.pandas_input_fn(x=X_train, y=y_train, batch_size=10, num_epochs=1000, shuffle=True)"
   ]
  },
  {
   "cell_type": "code",
   "execution_count": 26,
   "metadata": {},
   "outputs": [
    {
     "name": "stdout",
     "output_type": "stream",
     "text": [
      "INFO:tensorflow:Using default config.\n",
      "WARNING:tensorflow:Using temporary folder as model directory: /var/folders/kb/s3s7jjy90yx_6r9ztgl83y_m0000gp/T/tmpkodl8vs9\n",
      "INFO:tensorflow:Using config: {'_save_summary_steps': 100, '_log_step_count_steps': 100, '_keep_checkpoint_every_n_hours': 10000, '_keep_checkpoint_max': 5, '_model_dir': '/var/folders/kb/s3s7jjy90yx_6r9ztgl83y_m0000gp/T/tmpkodl8vs9', '_session_config': None, '_save_checkpoints_steps': None, '_save_checkpoints_secs': 600, '_tf_random_seed': 1}\n"
     ]
    }
   ],
   "source": [
    "model = tf.estimator.LinearClassifier(feature_columns=feat_cols, n_classes=len(pitch_types))"
   ]
  },
  {
   "cell_type": "code",
   "execution_count": 27,
   "metadata": {},
   "outputs": [
    {
     "name": "stdout",
     "output_type": "stream",
     "text": [
      "INFO:tensorflow:Create CheckpointSaverHook.\n",
      "INFO:tensorflow:Saving checkpoints for 1 into /var/folders/kb/s3s7jjy90yx_6r9ztgl83y_m0000gp/T/tmpkodl8vs9/model.ckpt.\n",
      "INFO:tensorflow:step = 1, loss = 19.4591\n",
      "INFO:tensorflow:global_step/sec: 267.546\n",
      "INFO:tensorflow:step = 101, loss = 8.504444 (0.380 sec)\n",
      "INFO:tensorflow:global_step/sec: 402.733\n",
      "INFO:tensorflow:step = 201, loss = 4.23999 (0.244 sec)\n",
      "INFO:tensorflow:global_step/sec: 535.576\n",
      "INFO:tensorflow:step = 301, loss = 5.6064367 (0.186 sec)\n",
      "INFO:tensorflow:global_step/sec: 515.991\n",
      "INFO:tensorflow:step = 401, loss = 11.780153 (0.193 sec)\n",
      "INFO:tensorflow:global_step/sec: 485.274\n",
      "INFO:tensorflow:step = 501, loss = 6.131202 (0.206 sec)\n",
      "INFO:tensorflow:global_step/sec: 585.94\n",
      "INFO:tensorflow:step = 601, loss = 7.6014614 (0.171 sec)\n",
      "INFO:tensorflow:global_step/sec: 582.768\n",
      "INFO:tensorflow:step = 701, loss = 5.0821986 (0.176 sec)\n",
      "INFO:tensorflow:global_step/sec: 273.105\n",
      "INFO:tensorflow:step = 801, loss = 11.709531 (0.364 sec)\n",
      "INFO:tensorflow:global_step/sec: 363.208\n",
      "INFO:tensorflow:step = 901, loss = 3.0695503 (0.276 sec)\n",
      "INFO:tensorflow:Saving checkpoints for 1000 into /var/folders/kb/s3s7jjy90yx_6r9ztgl83y_m0000gp/T/tmpkodl8vs9/model.ckpt.\n",
      "INFO:tensorflow:Loss for final step: 7.1607676.\n"
     ]
    },
    {
     "data": {
      "text/plain": [
       "<tensorflow.python.estimator.canned.linear.LinearClassifier at 0x1a1ed37518>"
      ]
     },
     "execution_count": 27,
     "metadata": {},
     "output_type": "execute_result"
    }
   ],
   "source": [
    "model.train(input_fn=input_func, steps=1000)"
   ]
  },
  {
   "cell_type": "markdown",
   "metadata": {},
   "source": [
    "## Evaluation"
   ]
  },
  {
   "cell_type": "code",
   "execution_count": 28,
   "metadata": {},
   "outputs": [],
   "source": [
    "eval_input_func = tf.estimator.inputs.pandas_input_fn(\n",
    "    x=X_test,\n",
    "    y=y_test,\n",
    "    batch_size=10,\n",
    "    num_epochs=1,\n",
    "    shuffle=False\n",
    ")"
   ]
  },
  {
   "cell_type": "code",
   "execution_count": 29,
   "metadata": {},
   "outputs": [
    {
     "name": "stdout",
     "output_type": "stream",
     "text": [
      "INFO:tensorflow:Starting evaluation at 2019-06-30-22:43:15\n",
      "INFO:tensorflow:Restoring parameters from /var/folders/kb/s3s7jjy90yx_6r9ztgl83y_m0000gp/T/tmpkodl8vs9/model.ckpt-1000\n",
      "INFO:tensorflow:Finished evaluation at 2019-06-30-22:43:16\n",
      "INFO:tensorflow:Saving dict for global step 1000: accuracy = 0.75, average_loss = 0.9752206, global_step = 1000, loss = 7.801765\n"
     ]
    }
   ],
   "source": [
    "results = model.evaluate(eval_input_func)"
   ]
  },
  {
   "cell_type": "code",
   "execution_count": 30,
   "metadata": {},
   "outputs": [
    {
     "data": {
      "text/plain": [
       "{'accuracy': 0.75,\n",
       " 'average_loss': 0.9752206,\n",
       " 'global_step': 1000,\n",
       " 'loss': 7.801765}"
      ]
     },
     "execution_count": 30,
     "metadata": {},
     "output_type": "execute_result"
    }
   ],
   "source": [
    "results"
   ]
  },
  {
   "cell_type": "markdown",
   "metadata": {},
   "source": [
    "# Predictions"
   ]
  },
  {
   "cell_type": "code",
   "execution_count": 31,
   "metadata": {},
   "outputs": [],
   "source": [
    "pred_input_func = tf.estimator.inputs.pandas_input_fn(\n",
    "    x=X_test,\n",
    "    batch_size=10,\n",
    "    num_epochs=1,\n",
    "    shuffle=False\n",
    ")"
   ]
  },
  {
   "cell_type": "code",
   "execution_count": 32,
   "metadata": {},
   "outputs": [],
   "source": [
    "p = model.predict(pred_input_func)"
   ]
  },
  {
   "cell_type": "code",
   "execution_count": 33,
   "metadata": {},
   "outputs": [
    {
     "name": "stdout",
     "output_type": "stream",
     "text": [
      "INFO:tensorflow:Restoring parameters from /var/folders/kb/s3s7jjy90yx_6r9ztgl83y_m0000gp/T/tmpkodl8vs9/model.ckpt-1000\n"
     ]
    }
   ],
   "source": [
    "predictions = list(p)"
   ]
  },
  {
   "cell_type": "code",
   "execution_count": 34,
   "metadata": {},
   "outputs": [
    {
     "data": {
      "text/plain": [
       "[[0.73, 0.01, 0.16, 0.01, 0.0, 0.08, 0.01],\n",
       " [0.03, 0.91, 0.02, 0.01, 0.02, 0.0, 0.01],\n",
       " [0.2, 0.01, 0.36, 0.01, 0.0, 0.39, 0.02],\n",
       " [0.29, 0.05, 0.41, 0.03, 0.0, 0.19, 0.03],\n",
       " [0.74, 0.02, 0.15, 0.01, 0.0, 0.07, 0.01],\n",
       " [0.71, 0.02, 0.17, 0.01, 0.0, 0.07, 0.01],\n",
       " [0.72, 0.03, 0.16, 0.01, 0.0, 0.07, 0.01],\n",
       " [0.39, 0.05, 0.36, 0.03, 0.0, 0.14, 0.03],\n",
       " [0.06, 0.83, 0.05, 0.01, 0.02, 0.01, 0.01],\n",
       " [0.37, 0.06, 0.37, 0.03, 0.0, 0.15, 0.03],\n",
       " [0.18, 0.2, 0.4, 0.04, 0.01, 0.12, 0.04],\n",
       " [0.2, 0.14, 0.42, 0.04, 0.0, 0.15, 0.04],\n",
       " [0.04, 0.89, 0.03, 0.01, 0.02, 0.0, 0.01],\n",
       " [0.02, 0.93, 0.01, 0.01, 0.02, 0.0, 0.0],\n",
       " [0.09, 0.79, 0.07, 0.02, 0.01, 0.01, 0.01],\n",
       " [0.08, 0.81, 0.06, 0.01, 0.02, 0.01, 0.01],\n",
       " [0.0, 0.9, 0.0, 0.0, 0.1, 0.0, 0.0],\n",
       " [0.03, 0.87, 0.04, 0.01, 0.03, 0.0, 0.01],\n",
       " [0.0, 0.89, 0.0, 0.0, 0.11, 0.0, 0.0],\n",
       " [0.64, 0.01, 0.21, 0.01, 0.0, 0.11, 0.02],\n",
       " [0.58, 0.02, 0.24, 0.02, 0.0, 0.13, 0.02],\n",
       " [0.24, 0.07, 0.43, 0.03, 0.0, 0.19, 0.04],\n",
       " [0.01, 0.94, 0.01, 0.0, 0.02, 0.0, 0.0],\n",
       " [0.01, 0.96, 0.01, 0.0, 0.02, 0.0, 0.0],\n",
       " [0.02, 0.93, 0.01, 0.01, 0.02, 0.0, 0.0],\n",
       " [0.14, 0.74, 0.07, 0.02, 0.01, 0.01, 0.01],\n",
       " [0.0, 0.8, 0.0, 0.0, 0.2, 0.0, 0.0],\n",
       " [0.3, 0.06, 0.41, 0.03, 0.0, 0.17, 0.03],\n",
       " [0.01, 0.95, 0.01, 0.0, 0.03, 0.0, 0.0],\n",
       " [0.03, 0.91, 0.02, 0.01, 0.02, 0.0, 0.01],\n",
       " [0.73, 0.02, 0.16, 0.01, 0.0, 0.07, 0.01],\n",
       " [0.04, 0.88, 0.04, 0.01, 0.02, 0.0, 0.01]]"
      ]
     },
     "execution_count": 34,
     "metadata": {},
     "output_type": "execute_result"
    }
   ],
   "source": [
    "probabilities = [ [ round(i, 2) for i in pred['probabilities'] ] for pred in predictions ]\n",
    "probabilities"
   ]
  },
  {
   "cell_type": "code",
   "execution_count": 35,
   "metadata": {},
   "outputs": [
    {
     "data": {
      "text/plain": [
       "[0,\n",
       " 1,\n",
       " 5,\n",
       " 2,\n",
       " 0,\n",
       " 0,\n",
       " 0,\n",
       " 0,\n",
       " 1,\n",
       " 0,\n",
       " 2,\n",
       " 2,\n",
       " 1,\n",
       " 1,\n",
       " 1,\n",
       " 1,\n",
       " 1,\n",
       " 1,\n",
       " 1,\n",
       " 0,\n",
       " 0,\n",
       " 2,\n",
       " 1,\n",
       " 1,\n",
       " 1,\n",
       " 1,\n",
       " 1,\n",
       " 2,\n",
       " 1,\n",
       " 1,\n",
       " 0,\n",
       " 1]"
      ]
     },
     "execution_count": 35,
     "metadata": {},
     "output_type": "execute_result"
    }
   ],
   "source": [
    "predicted_types = [ i.index(max(i)) for i in probabilities ]\n",
    "predicted_types"
   ]
  },
  {
   "cell_type": "code",
   "execution_count": 36,
   "metadata": {},
   "outputs": [
    {
     "data": {
      "text/plain": [
       "['four-seam fastball',\n",
       " 'slider',\n",
       " 'sinker',\n",
       " 'split-fingered fastball',\n",
       " 'four-seam fastball',\n",
       " 'four-seam fastball',\n",
       " 'four-seam fastball',\n",
       " 'four-seam fastball',\n",
       " 'slider',\n",
       " 'four-seam fastball',\n",
       " 'split-fingered fastball',\n",
       " 'split-fingered fastball',\n",
       " 'slider',\n",
       " 'slider',\n",
       " 'slider',\n",
       " 'slider',\n",
       " 'slider',\n",
       " 'slider',\n",
       " 'slider',\n",
       " 'four-seam fastball',\n",
       " 'four-seam fastball',\n",
       " 'split-fingered fastball',\n",
       " 'slider',\n",
       " 'slider',\n",
       " 'slider',\n",
       " 'slider',\n",
       " 'slider',\n",
       " 'split-fingered fastball',\n",
       " 'slider',\n",
       " 'slider',\n",
       " 'four-seam fastball',\n",
       " 'slider']"
      ]
     },
     "execution_count": 36,
     "metadata": {},
     "output_type": "execute_result"
    }
   ],
   "source": [
    "[ PITCH_TYPE_LABELS[pitch_types[i]] for i in predicted_types ]"
   ]
  },
  {
   "cell_type": "code",
   "execution_count": null,
   "metadata": {},
   "outputs": [],
   "source": []
  }
 ],
 "metadata": {
  "kernelspec": {
   "display_name": "Python 3",
   "language": "python",
   "name": "python3"
  },
  "language_info": {
   "codemirror_mode": {
    "name": "ipython",
    "version": 3
   },
   "file_extension": ".py",
   "mimetype": "text/x-python",
   "name": "python",
   "nbconvert_exporter": "python",
   "pygments_lexer": "ipython3",
   "version": "3.5.6"
  }
 },
 "nbformat": 4,
 "nbformat_minor": 2
}
