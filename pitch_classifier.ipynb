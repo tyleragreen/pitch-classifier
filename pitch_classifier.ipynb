{
 "cells": [
  {
   "cell_type": "markdown",
   "metadata": {},
   "source": [
    "# Pitch Classifier"
   ]
  },
  {
   "cell_type": "markdown",
   "metadata": {},
   "source": [
    "Data inspiration from Mike Fast's paper, [\"What the Heck is PITCHf/x?\"](http://baseball.physics.illinois.edu/FastPFXGuide.pdf).\n",
    "Data from [Brooks Baseball](http://www.brooksbaseball.net/)."
   ]
  },
  {
   "cell_type": "code",
   "execution_count": 1,
   "metadata": {},
   "outputs": [],
   "source": [
    "COLORS = {\n",
    "    'FF': 'red',\n",
    "    'SL': 'green',\n",
    "    'FS': 'blue',\n",
    "    'CH': 'orange',\n",
    "    'CU': 'grey',\n",
    "    'SI': 'purple',\n",
    "    'FT': 'brown',\n",
    "}"
   ]
  },
  {
   "cell_type": "code",
   "execution_count": 2,
   "metadata": {},
   "outputs": [],
   "source": [
    "PITCH_TYPE_LABELS = {\n",
    "    'FA': 'fastball',\n",
    "    'FF': 'four-seam fastball',\n",
    "    'FT': 'two-seam fastball',\n",
    "    'FC': 'cutter',\n",
    "    'FS': 'fastball',\n",
    "    'SI': 'sinker',\n",
    "    'FS': 'split-fingered fastball',\n",
    "    'SL': 'slider',\n",
    "    'CH': 'changeup',\n",
    "    'CB': 'curveball',\n",
    "    'CU': 'curveball',\n",
    "    'KC': 'knuckle-curve',\n",
    "    'KN': 'knuckleball',\n",
    "    'EP': 'eephus',\n",
    "    'UN': 'unidentified',\n",
    "    'XX': 'unidentified',\n",
    "    'PO': 'pitch out',\n",
    "    'FO': 'pitch out',\n",
    "}"
   ]
  },
  {
   "cell_type": "markdown",
   "metadata": {},
   "source": [
    "## Load the Data"
   ]
  },
  {
   "cell_type": "code",
   "execution_count": 3,
   "metadata": {},
   "outputs": [],
   "source": [
    "import pandas as pd"
   ]
  },
  {
   "cell_type": "code",
   "execution_count": 4,
   "metadata": {},
   "outputs": [],
   "source": [
    "pitches = pd.read_csv('data/2019-06-17_547888_Tanaka.csv')"
   ]
  },
  {
   "cell_type": "code",
   "execution_count": 5,
   "metadata": {},
   "outputs": [
    {
     "data": {
      "text/html": [
       "<div>\n",
       "<style scoped>\n",
       "    .dataframe tbody tr th:only-of-type {\n",
       "        vertical-align: middle;\n",
       "    }\n",
       "\n",
       "    .dataframe tbody tr th {\n",
       "        vertical-align: top;\n",
       "    }\n",
       "\n",
       "    .dataframe thead th {\n",
       "        text-align: right;\n",
       "    }\n",
       "</style>\n",
       "<table border=\"1\" class=\"dataframe\">\n",
       "  <thead>\n",
       "    <tr style=\"text-align: right;\">\n",
       "      <th></th>\n",
       "      <th>start_speed</th>\n",
       "      <th>pfx_x</th>\n",
       "      <th>pfx_z</th>\n",
       "      <th>mlbam_pitch_name</th>\n",
       "    </tr>\n",
       "  </thead>\n",
       "  <tbody>\n",
       "    <tr>\n",
       "      <th>0</th>\n",
       "      <td>91.87</td>\n",
       "      <td>-4.517746</td>\n",
       "      <td>9.332202</td>\n",
       "      <td>FF</td>\n",
       "    </tr>\n",
       "    <tr>\n",
       "      <th>1</th>\n",
       "      <td>83.05</td>\n",
       "      <td>1.624604</td>\n",
       "      <td>1.942790</td>\n",
       "      <td>SL</td>\n",
       "    </tr>\n",
       "    <tr>\n",
       "      <th>2</th>\n",
       "      <td>91.21</td>\n",
       "      <td>-7.260078</td>\n",
       "      <td>7.255023</td>\n",
       "      <td>FF</td>\n",
       "    </tr>\n",
       "    <tr>\n",
       "      <th>3</th>\n",
       "      <td>81.80</td>\n",
       "      <td>4.409871</td>\n",
       "      <td>0.787128</td>\n",
       "      <td>SL</td>\n",
       "    </tr>\n",
       "    <tr>\n",
       "      <th>4</th>\n",
       "      <td>80.63</td>\n",
       "      <td>5.149924</td>\n",
       "      <td>2.596144</td>\n",
       "      <td>SL</td>\n",
       "    </tr>\n",
       "  </tbody>\n",
       "</table>\n",
       "</div>"
      ],
      "text/plain": [
       "   start_speed     pfx_x     pfx_z mlbam_pitch_name\n",
       "0        91.87 -4.517746  9.332202               FF\n",
       "1        83.05  1.624604  1.942790               SL\n",
       "2        91.21 -7.260078  7.255023               FF\n",
       "3        81.80  4.409871  0.787128               SL\n",
       "4        80.63  5.149924  2.596144               SL"
      ]
     },
     "execution_count": 5,
     "metadata": {},
     "output_type": "execute_result"
    }
   ],
   "source": [
    "pitches.head()"
   ]
  },
  {
   "cell_type": "code",
   "execution_count": 6,
   "metadata": {},
   "outputs": [],
   "source": [
    "import numpy as np\n",
    "import matplotlib.pyplot as plt\n",
    "%matplotlib inline"
   ]
  },
  {
   "cell_type": "code",
   "execution_count": 7,
   "metadata": {},
   "outputs": [
    {
     "data": {
      "text/plain": [
       "array(['FF', 'SL', 'FS', 'CH', 'CU', 'SI', 'FT'], dtype=object)"
      ]
     },
     "execution_count": 7,
     "metadata": {},
     "output_type": "execute_result"
    }
   ],
   "source": [
    "pitch_types = pitches['mlbam_pitch_name'].unique()\n",
    "pitch_types"
   ]
  },
  {
   "cell_type": "code",
   "execution_count": 8,
   "metadata": {},
   "outputs": [],
   "source": [
    "colors = [ COLORS.get(pitch_type, 'black') for pitch_type in pitches['mlbam_pitch_name']]"
   ]
  },
  {
   "cell_type": "code",
   "execution_count": 9,
   "metadata": {},
   "outputs": [
    {
     "data": {
      "text/plain": [
       "Text(0, 0.5, 'pitch speed (mph)')"
      ]
     },
     "execution_count": 9,
     "metadata": {},
     "output_type": "execute_result"
    },
    {
     "data": {
      "image/png": "[encoded data removed]",
      "text/plain": [
       "<Figure size 432x288 with 1 Axes>"
      ]
     },
     "metadata": {
      "needs_background": "light"
     },
     "output_type": "display_data"
    }
   ],
   "source": [
    "plt.scatter(pitches['pfx_x'], pitches['start_speed'], c=colors)\n",
    "plt.title('Pitch horizontal break vs. pitch speed')\n",
    "plt.xlabel('horizontal break (inches)')\n",
    "plt.ylabel('pitch speed (mph)')"
   ]
  },
  {
   "cell_type": "code",
   "execution_count": 10,
   "metadata": {},
   "outputs": [
    {
     "data": {
      "text/plain": [
       "Text(0, 0.5, 'vertical break (inches)')"
      ]
     },
     "execution_count": 10,
     "metadata": {},
     "output_type": "execute_result"
    },
    {
     "data": {
      "image/png": "[encoded data removed]",
      "text/plain": [
       "<Figure size 432x288 with 1 Axes>"
      ]
     },
     "metadata": {
      "needs_background": "light"
     },
     "output_type": "display_data"
    }
   ],
   "source": [
    "plt.scatter(pitches['pfx_x'], pitches['pfx_z'], c=colors)\n",
    "plt.title('Pitch horizontal break vs. pitch vertical break')\n",
    "plt.xlabel('horizontal break (inches)')\n",
    "plt.ylabel('vertical break (inches)')"
   ]
  },
  {
   "cell_type": "code",
   "execution_count": 11,
   "metadata": {},
   "outputs": [],
   "source": [
    "data_x = pitches['pfx_x']\n",
    "data_y = pitches['start_speed']\n",
    "data_z = pitches['pfx_z']"
   ]
  },
  {
   "cell_type": "code",
   "execution_count": 12,
   "metadata": {},
   "outputs": [],
   "source": [
    "from mpl_toolkits.mplot3d import Axes3D"
   ]
  },
  {
   "cell_type": "code",
   "execution_count": 13,
   "metadata": {},
   "outputs": [
    {
     "data": {
      "text/plain": [
       "<mpl_toolkits.mplot3d.art3d.Path3DCollection at 0x1142e80f0>"
      ]
     },
     "execution_count": 13,
     "metadata": {},
     "output_type": "execute_result"
    },
    {
     "data": {
      "image/png": "[encoded data removed]",
      "text/plain": [
       "<Figure size 432x288 with 1 Axes>"
      ]
     },
     "metadata": {
      "needs_background": "light"
     },
     "output_type": "display_data"
    }
   ],
   "source": [
    "fig = plt.figure()\n",
    "ax = fig.add_subplot(111,projection='3d')\n",
    "ax.scatter(data_x,data_y,data_z,c=colors)"
   ]
  },
  {
   "cell_type": "markdown",
   "metadata": {},
   "source": [
    "## Normalize the Data"
   ]
  },
  {
   "cell_type": "code",
   "execution_count": 14,
   "metadata": {},
   "outputs": [],
   "source": [
    "cols_to_norm = ['start_speed', 'pfx_x', 'pfx_z']"
   ]
  },
  {
   "cell_type": "code",
   "execution_count": 15,
   "metadata": {},
   "outputs": [],
   "source": [
    "pitches[cols_to_norm] = pitches[cols_to_norm].apply(lambda x: (x-x.min()) / (x.max() - x.min()))\n",
    "pitches['pitch_type'] = pitches['mlbam_pitch_name'].apply(lambda type_code: int(np.where(pitch_types == type_code)[0]))"
   ]
  },
  {
   "cell_type": "code",
   "execution_count": 16,
   "metadata": {},
   "outputs": [
    {
     "data": {
      "text/html": [
       "<div>\n",
       "<style scoped>\n",
       "    .dataframe tbody tr th:only-of-type {\n",
       "        vertical-align: middle;\n",
       "    }\n",
       "\n",
       "    .dataframe tbody tr th {\n",
       "        vertical-align: top;\n",
       "    }\n",
       "\n",
       "    .dataframe thead th {\n",
       "        text-align: right;\n",
       "    }\n",
       "</style>\n",
       "<table border=\"1\" class=\"dataframe\">\n",
       "  <thead>\n",
       "    <tr style=\"text-align: right;\">\n",
       "      <th></th>\n",
       "      <th>start_speed</th>\n",
       "      <th>pfx_x</th>\n",
       "      <th>pfx_z</th>\n",
       "      <th>mlbam_pitch_name</th>\n",
       "      <th>pitch_type</th>\n",
       "    </tr>\n",
       "  </thead>\n",
       "  <tbody>\n",
       "    <tr>\n",
       "      <th>0</th>\n",
       "      <td>0.926975</td>\n",
       "      <td>0.339739</td>\n",
       "      <td>0.970198</td>\n",
       "      <td>FF</td>\n",
       "      <td>0</td>\n",
       "    </tr>\n",
       "    <tr>\n",
       "      <th>1</th>\n",
       "      <td>0.488823</td>\n",
       "      <td>0.660851</td>\n",
       "      <td>0.508245</td>\n",
       "      <td>SL</td>\n",
       "      <td>1</td>\n",
       "    </tr>\n",
       "    <tr>\n",
       "      <th>2</th>\n",
       "      <td>0.894188</td>\n",
       "      <td>0.196375</td>\n",
       "      <td>0.840342</td>\n",
       "      <td>FF</td>\n",
       "      <td>0</td>\n",
       "    </tr>\n",
       "    <tr>\n",
       "      <th>3</th>\n",
       "      <td>0.426726</td>\n",
       "      <td>0.806460</td>\n",
       "      <td>0.435998</td>\n",
       "      <td>SL</td>\n",
       "      <td>1</td>\n",
       "    </tr>\n",
       "    <tr>\n",
       "      <th>4</th>\n",
       "      <td>0.368604</td>\n",
       "      <td>0.845149</td>\n",
       "      <td>0.549089</td>\n",
       "      <td>SL</td>\n",
       "      <td>1</td>\n",
       "    </tr>\n",
       "  </tbody>\n",
       "</table>\n",
       "</div>"
      ],
      "text/plain": [
       "   start_speed     pfx_x     pfx_z mlbam_pitch_name  pitch_type\n",
       "0     0.926975  0.339739  0.970198               FF           0\n",
       "1     0.488823  0.660851  0.508245               SL           1\n",
       "2     0.894188  0.196375  0.840342               FF           0\n",
       "3     0.426726  0.806460  0.435998               SL           1\n",
       "4     0.368604  0.845149  0.549089               SL           1"
      ]
     },
     "execution_count": 16,
     "metadata": {},
     "output_type": "execute_result"
    }
   ],
   "source": [
    "pitches.head()"
   ]
  },
  {
   "cell_type": "markdown",
   "metadata": {},
   "source": [
    "## Define Feature Columns"
   ]
  },
  {
   "cell_type": "code",
   "execution_count": 17,
   "metadata": {},
   "outputs": [],
   "source": [
    "import tensorflow as tf"
   ]
  },
  {
   "cell_type": "code",
   "execution_count": 18,
   "metadata": {},
   "outputs": [],
   "source": [
    "start_speed = tf.feature_column.numeric_column('start_speed')\n",
    "pfx_x = tf.feature_column.numeric_column('pfx_x')\n",
    "pfx_z = tf.feature_column.numeric_column('pfx_z')"
   ]
  },
  {
   "cell_type": "code",
   "execution_count": 19,
   "metadata": {},
   "outputs": [],
   "source": [
    "feat_cols = [start_speed, pfx_x, pfx_z]"
   ]
  },
  {
   "cell_type": "markdown",
   "metadata": {},
   "source": [
    "## Train Test Split"
   ]
  },
  {
   "cell_type": "code",
   "execution_count": 20,
   "metadata": {},
   "outputs": [
    {
     "name": "stdout",
     "output_type": "stream",
     "text": [
      "<class 'pandas.core.frame.DataFrame'>\n",
      "RangeIndex: 95 entries, 0 to 94\n",
      "Data columns (total 5 columns):\n",
      "start_speed         95 non-null float64\n",
      "pfx_x               95 non-null float64\n",
      "pfx_z               95 non-null float64\n",
      "mlbam_pitch_name    95 non-null object\n",
      "pitch_type          95 non-null int64\n",
      "dtypes: float64(3), int64(1), object(1)\n",
      "memory usage: 3.8+ KB\n"
     ]
    }
   ],
   "source": [
    "pitches.info()"
   ]
  },
  {
   "cell_type": "code",
   "execution_count": 21,
   "metadata": {},
   "outputs": [
    {
     "data": {
      "text/html": [
       "<div>\n",
       "<style scoped>\n",
       "    .dataframe tbody tr th:only-of-type {\n",
       "        vertical-align: middle;\n",
       "    }\n",
       "\n",
       "    .dataframe tbody tr th {\n",
       "        vertical-align: top;\n",
       "    }\n",
       "\n",
       "    .dataframe thead th {\n",
       "        text-align: right;\n",
       "    }\n",
       "</style>\n",
       "<table border=\"1\" class=\"dataframe\">\n",
       "  <thead>\n",
       "    <tr style=\"text-align: right;\">\n",
       "      <th></th>\n",
       "      <th>start_speed</th>\n",
       "      <th>pfx_x</th>\n",
       "      <th>pfx_z</th>\n",
       "    </tr>\n",
       "  </thead>\n",
       "  <tbody>\n",
       "    <tr>\n",
       "      <th>0</th>\n",
       "      <td>0.926975</td>\n",
       "      <td>0.339739</td>\n",
       "      <td>0.970198</td>\n",
       "    </tr>\n",
       "    <tr>\n",
       "      <th>1</th>\n",
       "      <td>0.488823</td>\n",
       "      <td>0.660851</td>\n",
       "      <td>0.508245</td>\n",
       "    </tr>\n",
       "    <tr>\n",
       "      <th>2</th>\n",
       "      <td>0.894188</td>\n",
       "      <td>0.196375</td>\n",
       "      <td>0.840342</td>\n",
       "    </tr>\n",
       "    <tr>\n",
       "      <th>3</th>\n",
       "      <td>0.426726</td>\n",
       "      <td>0.806460</td>\n",
       "      <td>0.435998</td>\n",
       "    </tr>\n",
       "    <tr>\n",
       "      <th>4</th>\n",
       "      <td>0.368604</td>\n",
       "      <td>0.845149</td>\n",
       "      <td>0.549089</td>\n",
       "    </tr>\n",
       "  </tbody>\n",
       "</table>\n",
       "</div>"
      ],
      "text/plain": [
       "   start_speed     pfx_x     pfx_z\n",
       "0     0.926975  0.339739  0.970198\n",
       "1     0.488823  0.660851  0.508245\n",
       "2     0.894188  0.196375  0.840342\n",
       "3     0.426726  0.806460  0.435998\n",
       "4     0.368604  0.845149  0.549089"
      ]
     },
     "execution_count": 21,
     "metadata": {},
     "output_type": "execute_result"
    }
   ],
   "source": [
    "x_data = pitches.drop(['mlbam_pitch_name','pitch_type'], axis=1)\n",
    "x_data.head()"
   ]
  },
  {
   "cell_type": "code",
   "execution_count": 22,
   "metadata": {},
   "outputs": [],
   "source": [
    "labels = pitches['pitch_type']"
   ]
  },
  {
   "cell_type": "code",
   "execution_count": 23,
   "metadata": {},
   "outputs": [],
   "source": [
    "from sklearn.model_selection import train_test_split"
   ]
  },
  {
   "cell_type": "code",
   "execution_count": 24,
   "metadata": {},
   "outputs": [],
   "source": [
    "X_train, X_test, y_train, y_test = train_test_split(x_data, labels, test_size=0.33, random_state=101)"
   ]
  },
  {
   "cell_type": "markdown",
   "metadata": {},
   "source": [
    "## Input Function"
   ]
  },
  {
   "cell_type": "code",
   "execution_count": 25,
   "metadata": {},
   "outputs": [],
   "source": [
    "input_func = tf.estimator.inputs.pandas_input_fn(x=X_train, y=y_train, batch_size=10, num_epochs=1000, shuffle=True)"
   ]
  },
  {
   "cell_type": "code",
   "execution_count": 26,
   "metadata": {},
   "outputs": [
    {
     "name": "stdout",
     "output_type": "stream",
     "text": [
      "INFO:tensorflow:Using default config.\n",
      "WARNING:tensorflow:Using temporary folder as model directory: /var/folders/kb/s3s7jjy90yx_6r9ztgl83y_m0000gp/T/tmpdstkyast\n",
      "INFO:tensorflow:Using config: {'_save_summary_steps': 100, '_save_checkpoints_steps': None, '_tf_random_seed': 1, '_session_config': None, '_keep_checkpoint_every_n_hours': 10000, '_model_dir': '/var/folders/kb/s3s7jjy90yx_6r9ztgl83y_m0000gp/T/tmpdstkyast', '_keep_checkpoint_max': 5, '_log_step_count_steps': 100, '_save_checkpoints_secs': 600}\n"
     ]
    }
   ],
   "source": [
    "linear_model = tf.estimator.LinearClassifier(feature_columns=feat_cols, n_classes=len(pitch_types))"
   ]
  },
  {
   "cell_type": "code",
   "execution_count": 27,
   "metadata": {},
   "outputs": [
    {
     "name": "stdout",
     "output_type": "stream",
     "text": [
      "INFO:tensorflow:Create CheckpointSaverHook.\n",
      "INFO:tensorflow:Saving checkpoints for 1 into /var/folders/kb/s3s7jjy90yx_6r9ztgl83y_m0000gp/T/tmpdstkyast/model.ckpt.\n",
      "INFO:tensorflow:step = 1, loss = 19.4591\n",
      "INFO:tensorflow:global_step/sec: 589.154\n",
      "INFO:tensorflow:step = 101, loss = 11.012872 (0.171 sec)\n",
      "INFO:tensorflow:global_step/sec: 587.578\n",
      "INFO:tensorflow:step = 201, loss = 9.161055 (0.170 sec)\n",
      "INFO:tensorflow:global_step/sec: 595.532\n",
      "INFO:tensorflow:step = 301, loss = 4.502223 (0.168 sec)\n",
      "INFO:tensorflow:global_step/sec: 624.119\n",
      "INFO:tensorflow:step = 401, loss = 11.858446 (0.160 sec)\n",
      "INFO:tensorflow:global_step/sec: 654.082\n",
      "INFO:tensorflow:step = 501, loss = 8.359846 (0.153 sec)\n",
      "INFO:tensorflow:global_step/sec: 586.737\n",
      "INFO:tensorflow:step = 601, loss = 9.235604 (0.170 sec)\n",
      "INFO:tensorflow:global_step/sec: 619.03\n",
      "INFO:tensorflow:step = 701, loss = 4.088436 (0.162 sec)\n",
      "INFO:tensorflow:global_step/sec: 631.924\n",
      "INFO:tensorflow:step = 801, loss = 3.36705 (0.159 sec)\n",
      "INFO:tensorflow:global_step/sec: 529.308\n",
      "INFO:tensorflow:step = 901, loss = 4.5563035 (0.187 sec)\n",
      "INFO:tensorflow:Saving checkpoints for 1000 into /var/folders/kb/s3s7jjy90yx_6r9ztgl83y_m0000gp/T/tmpdstkyast/model.ckpt.\n",
      "INFO:tensorflow:Loss for final step: 9.4168625.\n"
     ]
    },
    {
     "data": {
      "text/plain": [
       "<tensorflow.python.estimator.canned.linear.LinearClassifier at 0x1a1e7c7cc0>"
      ]
     },
     "execution_count": 27,
     "metadata": {},
     "output_type": "execute_result"
    }
   ],
   "source": [
    "linear_model.train(input_fn=input_func, steps=1000)"
   ]
  },
  {
   "cell_type": "code",
   "execution_count": 28,
   "metadata": {},
   "outputs": [
    {
     "name": "stdout",
     "output_type": "stream",
     "text": [
      "INFO:tensorflow:Using default config.\n",
      "WARNING:tensorflow:Using temporary folder as model directory: /var/folders/kb/s3s7jjy90yx_6r9ztgl83y_m0000gp/T/tmpy60t3p5u\n",
      "INFO:tensorflow:Using config: {'_save_summary_steps': 100, '_save_checkpoints_steps': None, '_tf_random_seed': 1, '_session_config': None, '_keep_checkpoint_every_n_hours': 10000, '_model_dir': '/var/folders/kb/s3s7jjy90yx_6r9ztgl83y_m0000gp/T/tmpy60t3p5u', '_keep_checkpoint_max': 5, '_log_step_count_steps': 100, '_save_checkpoints_secs': 600}\n"
     ]
    }
   ],
   "source": [
    "dnn_model = tf.estimator.DNNClassifier(feature_columns=feat_cols, hidden_units=[10,10], n_classes=len(pitch_types))"
   ]
  },
  {
   "cell_type": "code",
   "execution_count": 29,
   "metadata": {},
   "outputs": [
    {
     "name": "stdout",
     "output_type": "stream",
     "text": [
      "INFO:tensorflow:Create CheckpointSaverHook.\n",
      "INFO:tensorflow:Saving checkpoints for 1 into /var/folders/kb/s3s7jjy90yx_6r9ztgl83y_m0000gp/T/tmpy60t3p5u/model.ckpt.\n",
      "INFO:tensorflow:step = 1, loss = 19.344791\n",
      "INFO:tensorflow:global_step/sec: 610.718\n",
      "INFO:tensorflow:step = 101, loss = 2.6467748 (0.165 sec)\n",
      "INFO:tensorflow:global_step/sec: 591.614\n",
      "INFO:tensorflow:step = 201, loss = 8.49828 (0.169 sec)\n",
      "INFO:tensorflow:global_step/sec: 614.496\n",
      "INFO:tensorflow:step = 301, loss = 9.876283 (0.163 sec)\n",
      "INFO:tensorflow:global_step/sec: 573.727\n",
      "INFO:tensorflow:step = 401, loss = 5.035324 (0.175 sec)\n",
      "INFO:tensorflow:global_step/sec: 561.176\n",
      "INFO:tensorflow:step = 501, loss = 4.9635925 (0.178 sec)\n",
      "INFO:tensorflow:global_step/sec: 590.888\n",
      "INFO:tensorflow:step = 601, loss = 1.7551861 (0.169 sec)\n",
      "INFO:tensorflow:global_step/sec: 601.775\n",
      "INFO:tensorflow:step = 701, loss = 4.190822 (0.166 sec)\n",
      "INFO:tensorflow:global_step/sec: 592.523\n",
      "INFO:tensorflow:step = 801, loss = 1.6823535 (0.169 sec)\n",
      "INFO:tensorflow:global_step/sec: 581.801\n",
      "INFO:tensorflow:step = 901, loss = 6.599282 (0.173 sec)\n",
      "INFO:tensorflow:Saving checkpoints for 1000 into /var/folders/kb/s3s7jjy90yx_6r9ztgl83y_m0000gp/T/tmpy60t3p5u/model.ckpt.\n",
      "INFO:tensorflow:Loss for final step: 5.0693583.\n"
     ]
    },
    {
     "data": {
      "text/plain": [
       "<tensorflow.python.estimator.canned.dnn.DNNClassifier at 0x1a1e7e2278>"
      ]
     },
     "execution_count": 29,
     "metadata": {},
     "output_type": "execute_result"
    }
   ],
   "source": [
    "dnn_model.train(input_fn=input_func, steps=1000)"
   ]
  },
  {
   "cell_type": "markdown",
   "metadata": {},
   "source": [
    "## Evaluation"
   ]
  },
  {
   "cell_type": "code",
   "execution_count": 30,
   "metadata": {},
   "outputs": [],
   "source": [
    "eval_input_func = tf.estimator.inputs.pandas_input_fn(\n",
    "    x=X_test,\n",
    "    y=y_test,\n",
    "    batch_size=10,\n",
    "    num_epochs=1,\n",
    "    shuffle=False\n",
    ")"
   ]
  },
  {
   "cell_type": "code",
   "execution_count": 31,
   "metadata": {},
   "outputs": [
    {
     "name": "stdout",
     "output_type": "stream",
     "text": [
      "INFO:tensorflow:Starting evaluation at 2019-07-19-11:11:37\n",
      "INFO:tensorflow:Restoring parameters from /var/folders/kb/s3s7jjy90yx_6r9ztgl83y_m0000gp/T/tmpdstkyast/model.ckpt-1000\n",
      "INFO:tensorflow:Finished evaluation at 2019-07-19-11:11:38\n",
      "INFO:tensorflow:Saving dict for global step 1000: accuracy = 0.71875, average_loss = 0.95726985, global_step = 1000, loss = 7.658159\n"
     ]
    }
   ],
   "source": [
    "linear_results = linear_model.evaluate(eval_input_func)"
   ]
  },
  {
   "cell_type": "code",
   "execution_count": 32,
   "metadata": {},
   "outputs": [
    {
     "data": {
      "text/plain": [
       "{'accuracy': 0.71875,\n",
       " 'average_loss': 0.95726985,\n",
       " 'global_step': 1000,\n",
       " 'loss': 7.658159}"
      ]
     },
     "execution_count": 32,
     "metadata": {},
     "output_type": "execute_result"
    }
   ],
   "source": [
    "linear_results"
   ]
  },
  {
   "cell_type": "code",
   "execution_count": 33,
   "metadata": {},
   "outputs": [
    {
     "name": "stdout",
     "output_type": "stream",
     "text": [
      "INFO:tensorflow:Starting evaluation at 2019-07-19-11:11:38\n",
      "INFO:tensorflow:Restoring parameters from /var/folders/kb/s3s7jjy90yx_6r9ztgl83y_m0000gp/T/tmpy60t3p5u/model.ckpt-1000\n",
      "INFO:tensorflow:Finished evaluation at 2019-07-19-11:11:39\n",
      "INFO:tensorflow:Saving dict for global step 1000: accuracy = 0.84375, average_loss = 0.79415286, global_step = 1000, loss = 6.353223\n"
     ]
    }
   ],
   "source": [
    "dnn_results = dnn_model.evaluate(eval_input_func)"
   ]
  },
  {
   "cell_type": "code",
   "execution_count": 34,
   "metadata": {},
   "outputs": [
    {
     "data": {
      "text/plain": [
       "{'accuracy': 0.84375,\n",
       " 'average_loss': 0.79415286,\n",
       " 'global_step': 1000,\n",
       " 'loss': 6.353223}"
      ]
     },
     "execution_count": 34,
     "metadata": {},
     "output_type": "execute_result"
    }
   ],
   "source": [
    "dnn_results"
   ]
  },
  {
   "cell_type": "markdown",
   "metadata": {},
   "source": [
    "## Predictions"
   ]
  },
  {
   "cell_type": "code",
   "execution_count": 35,
   "metadata": {},
   "outputs": [],
   "source": [
    "pred_input_func = tf.estimator.inputs.pandas_input_fn(\n",
    "    x=X_test,\n",
    "    batch_size=10,\n",
    "    num_epochs=1,\n",
    "    shuffle=False\n",
    ")"
   ]
  },
  {
   "cell_type": "code",
   "execution_count": 36,
   "metadata": {},
   "outputs": [
    {
     "name": "stdout",
     "output_type": "stream",
     "text": [
      "INFO:tensorflow:Restoring parameters from /var/folders/kb/s3s7jjy90yx_6r9ztgl83y_m0000gp/T/tmpdstkyast/model.ckpt-1000\n"
     ]
    }
   ],
   "source": [
    "linear_predictions = list(linear_model.predict(pred_input_func))"
   ]
  },
  {
   "cell_type": "code",
   "execution_count": 37,
   "metadata": {},
   "outputs": [],
   "source": [
    "linear_probabilities = [ [ round(i, 2) for i in pred['probabilities'] ] for pred in linear_predictions ]\n",
    "linear_predicted_types = [ i.index(max(i)) for i in linear_probabilities ]"
   ]
  },
  {
   "cell_type": "code",
   "execution_count": 38,
   "metadata": {},
   "outputs": [
    {
     "name": "stdout",
     "output_type": "stream",
     "text": [
      "INFO:tensorflow:Restoring parameters from /var/folders/kb/s3s7jjy90yx_6r9ztgl83y_m0000gp/T/tmpy60t3p5u/model.ckpt-1000\n"
     ]
    }
   ],
   "source": [
    "dnn_predictions = list(dnn_model.predict(pred_input_func))"
   ]
  },
  {
   "cell_type": "code",
   "execution_count": 39,
   "metadata": {},
   "outputs": [],
   "source": [
    "dnn_probabilities = [ [ round(i, 2) for i in pred['probabilities'] ] for pred in dnn_predictions ]\n",
    "dnn_predicted_types = [ i.index(max(i)) for i in dnn_probabilities ]"
   ]
  },
  {
   "cell_type": "code",
   "execution_count": 40,
   "metadata": {},
   "outputs": [],
   "source": [
    "linear_predicted_pitches = [ PITCH_TYPE_LABELS[pitch_types[i]] for i in linear_predicted_types ]"
   ]
  },
  {
   "cell_type": "code",
   "execution_count": 41,
   "metadata": {},
   "outputs": [],
   "source": [
    "dnn_predicted_pitches = [ PITCH_TYPE_LABELS[pitch_types[i]] for i in dnn_predicted_types ]"
   ]
  },
  {
   "cell_type": "code",
   "execution_count": 42,
   "metadata": {},
   "outputs": [],
   "source": [
    "actual_pitches = [ PITCH_TYPE_LABELS[labeled_type] for labeled_type in list(pitches.iloc[X_test.index]['mlbam_pitch_name']) ]"
   ]
  },
  {
   "cell_type": "code",
   "execution_count": 43,
   "metadata": {},
   "outputs": [
    {
     "data": {
      "text/html": [
       "<div>\n",
       "<style scoped>\n",
       "    .dataframe tbody tr th:only-of-type {\n",
       "        vertical-align: middle;\n",
       "    }\n",
       "\n",
       "    .dataframe tbody tr th {\n",
       "        vertical-align: top;\n",
       "    }\n",
       "\n",
       "    .dataframe thead th {\n",
       "        text-align: right;\n",
       "    }\n",
       "</style>\n",
       "<table border=\"1\" class=\"dataframe\">\n",
       "  <thead>\n",
       "    <tr style=\"text-align: right;\">\n",
       "      <th></th>\n",
       "      <th>actual</th>\n",
       "      <th>dnn</th>\n",
       "      <th>linear</th>\n",
       "    </tr>\n",
       "  </thead>\n",
       "  <tbody>\n",
       "    <tr>\n",
       "      <th>0</th>\n",
       "      <td>four-seam fastball</td>\n",
       "      <td>four-seam fastball</td>\n",
       "      <td>four-seam fastball</td>\n",
       "    </tr>\n",
       "    <tr>\n",
       "      <th>1</th>\n",
       "      <td>slider</td>\n",
       "      <td>slider</td>\n",
       "      <td>slider</td>\n",
       "    </tr>\n",
       "    <tr>\n",
       "      <th>2</th>\n",
       "      <td>sinker</td>\n",
       "      <td>sinker</td>\n",
       "      <td>split-fingered fastball</td>\n",
       "    </tr>\n",
       "    <tr>\n",
       "      <th>3</th>\n",
       "      <td>split-fingered fastball</td>\n",
       "      <td>split-fingered fastball</td>\n",
       "      <td>split-fingered fastball</td>\n",
       "    </tr>\n",
       "    <tr>\n",
       "      <th>4</th>\n",
       "      <td>four-seam fastball</td>\n",
       "      <td>four-seam fastball</td>\n",
       "      <td>four-seam fastball</td>\n",
       "    </tr>\n",
       "    <tr>\n",
       "      <th>5</th>\n",
       "      <td>four-seam fastball</td>\n",
       "      <td>four-seam fastball</td>\n",
       "      <td>four-seam fastball</td>\n",
       "    </tr>\n",
       "    <tr>\n",
       "      <th>6</th>\n",
       "      <td>four-seam fastball</td>\n",
       "      <td>four-seam fastball</td>\n",
       "      <td>four-seam fastball</td>\n",
       "    </tr>\n",
       "    <tr>\n",
       "      <th>7</th>\n",
       "      <td>changeup</td>\n",
       "      <td>split-fingered fastball</td>\n",
       "      <td>split-fingered fastball</td>\n",
       "    </tr>\n",
       "    <tr>\n",
       "      <th>8</th>\n",
       "      <td>slider</td>\n",
       "      <td>slider</td>\n",
       "      <td>slider</td>\n",
       "    </tr>\n",
       "    <tr>\n",
       "      <th>9</th>\n",
       "      <td>slider</td>\n",
       "      <td>split-fingered fastball</td>\n",
       "      <td>split-fingered fastball</td>\n",
       "    </tr>\n",
       "    <tr>\n",
       "      <th>10</th>\n",
       "      <td>split-fingered fastball</td>\n",
       "      <td>split-fingered fastball</td>\n",
       "      <td>split-fingered fastball</td>\n",
       "    </tr>\n",
       "    <tr>\n",
       "      <th>11</th>\n",
       "      <td>changeup</td>\n",
       "      <td>split-fingered fastball</td>\n",
       "      <td>split-fingered fastball</td>\n",
       "    </tr>\n",
       "    <tr>\n",
       "      <th>12</th>\n",
       "      <td>slider</td>\n",
       "      <td>slider</td>\n",
       "      <td>slider</td>\n",
       "    </tr>\n",
       "    <tr>\n",
       "      <th>13</th>\n",
       "      <td>slider</td>\n",
       "      <td>slider</td>\n",
       "      <td>slider</td>\n",
       "    </tr>\n",
       "    <tr>\n",
       "      <th>14</th>\n",
       "      <td>slider</td>\n",
       "      <td>slider</td>\n",
       "      <td>slider</td>\n",
       "    </tr>\n",
       "    <tr>\n",
       "      <th>15</th>\n",
       "      <td>slider</td>\n",
       "      <td>slider</td>\n",
       "      <td>slider</td>\n",
       "    </tr>\n",
       "    <tr>\n",
       "      <th>16</th>\n",
       "      <td>curveball</td>\n",
       "      <td>curveball</td>\n",
       "      <td>slider</td>\n",
       "    </tr>\n",
       "    <tr>\n",
       "      <th>17</th>\n",
       "      <td>slider</td>\n",
       "      <td>slider</td>\n",
       "      <td>slider</td>\n",
       "    </tr>\n",
       "    <tr>\n",
       "      <th>18</th>\n",
       "      <td>curveball</td>\n",
       "      <td>curveball</td>\n",
       "      <td>slider</td>\n",
       "    </tr>\n",
       "    <tr>\n",
       "      <th>19</th>\n",
       "      <td>four-seam fastball</td>\n",
       "      <td>four-seam fastball</td>\n",
       "      <td>four-seam fastball</td>\n",
       "    </tr>\n",
       "    <tr>\n",
       "      <th>20</th>\n",
       "      <td>four-seam fastball</td>\n",
       "      <td>four-seam fastball</td>\n",
       "      <td>four-seam fastball</td>\n",
       "    </tr>\n",
       "    <tr>\n",
       "      <th>21</th>\n",
       "      <td>changeup</td>\n",
       "      <td>split-fingered fastball</td>\n",
       "      <td>split-fingered fastball</td>\n",
       "    </tr>\n",
       "    <tr>\n",
       "      <th>22</th>\n",
       "      <td>slider</td>\n",
       "      <td>slider</td>\n",
       "      <td>slider</td>\n",
       "    </tr>\n",
       "    <tr>\n",
       "      <th>23</th>\n",
       "      <td>slider</td>\n",
       "      <td>slider</td>\n",
       "      <td>slider</td>\n",
       "    </tr>\n",
       "    <tr>\n",
       "      <th>24</th>\n",
       "      <td>curveball</td>\n",
       "      <td>slider</td>\n",
       "      <td>slider</td>\n",
       "    </tr>\n",
       "    <tr>\n",
       "      <th>25</th>\n",
       "      <td>slider</td>\n",
       "      <td>slider</td>\n",
       "      <td>slider</td>\n",
       "    </tr>\n",
       "    <tr>\n",
       "      <th>26</th>\n",
       "      <td>curveball</td>\n",
       "      <td>curveball</td>\n",
       "      <td>slider</td>\n",
       "    </tr>\n",
       "    <tr>\n",
       "      <th>27</th>\n",
       "      <td>split-fingered fastball</td>\n",
       "      <td>split-fingered fastball</td>\n",
       "      <td>split-fingered fastball</td>\n",
       "    </tr>\n",
       "    <tr>\n",
       "      <th>28</th>\n",
       "      <td>slider</td>\n",
       "      <td>slider</td>\n",
       "      <td>slider</td>\n",
       "    </tr>\n",
       "    <tr>\n",
       "      <th>29</th>\n",
       "      <td>slider</td>\n",
       "      <td>slider</td>\n",
       "      <td>slider</td>\n",
       "    </tr>\n",
       "    <tr>\n",
       "      <th>30</th>\n",
       "      <td>four-seam fastball</td>\n",
       "      <td>four-seam fastball</td>\n",
       "      <td>four-seam fastball</td>\n",
       "    </tr>\n",
       "    <tr>\n",
       "      <th>31</th>\n",
       "      <td>slider</td>\n",
       "      <td>slider</td>\n",
       "      <td>slider</td>\n",
       "    </tr>\n",
       "  </tbody>\n",
       "</table>\n",
       "</div>"
      ],
      "text/plain": [
       "                     actual                      dnn                   linear\n",
       "0        four-seam fastball       four-seam fastball       four-seam fastball\n",
       "1                    slider                   slider                   slider\n",
       "2                    sinker                   sinker  split-fingered fastball\n",
       "3   split-fingered fastball  split-fingered fastball  split-fingered fastball\n",
       "4        four-seam fastball       four-seam fastball       four-seam fastball\n",
       "5        four-seam fastball       four-seam fastball       four-seam fastball\n",
       "6        four-seam fastball       four-seam fastball       four-seam fastball\n",
       "7                  changeup  split-fingered fastball  split-fingered fastball\n",
       "8                    slider                   slider                   slider\n",
       "9                    slider  split-fingered fastball  split-fingered fastball\n",
       "10  split-fingered fastball  split-fingered fastball  split-fingered fastball\n",
       "11                 changeup  split-fingered fastball  split-fingered fastball\n",
       "12                   slider                   slider                   slider\n",
       "13                   slider                   slider                   slider\n",
       "14                   slider                   slider                   slider\n",
       "15                   slider                   slider                   slider\n",
       "16                curveball                curveball                   slider\n",
       "17                   slider                   slider                   slider\n",
       "18                curveball                curveball                   slider\n",
       "19       four-seam fastball       four-seam fastball       four-seam fastball\n",
       "20       four-seam fastball       four-seam fastball       four-seam fastball\n",
       "21                 changeup  split-fingered fastball  split-fingered fastball\n",
       "22                   slider                   slider                   slider\n",
       "23                   slider                   slider                   slider\n",
       "24                curveball                   slider                   slider\n",
       "25                   slider                   slider                   slider\n",
       "26                curveball                curveball                   slider\n",
       "27  split-fingered fastball  split-fingered fastball  split-fingered fastball\n",
       "28                   slider                   slider                   slider\n",
       "29                   slider                   slider                   slider\n",
       "30       four-seam fastball       four-seam fastball       four-seam fastball\n",
       "31                   slider                   slider                   slider"
      ]
     },
     "execution_count": 43,
     "metadata": {},
     "output_type": "execute_result"
    }
   ],
   "source": [
    "comparison = pd.DataFrame({ 'actual': actual_pitches, 'linear': linear_predicted_pitches, 'dnn': dnn_predicted_pitches })\n",
    "comparison"
   ]
  },
  {
   "cell_type": "code",
   "execution_count": null,
   "metadata": {},
   "outputs": [],
   "source": []
  }
 ],
 "metadata": {
  "kernelspec": {
   "display_name": "Python 3",
   "language": "python",
   "name": "python3"
  },
  "language_info": {
   "codemirror_mode": {
    "name": "ipython",
    "version": 3
   },
   "file_extension": ".py",
   "mimetype": "text/x-python",
   "name": "python",
   "nbconvert_exporter": "python",
   "pygments_lexer": "ipython3",
   "version": "3.5.6"
  }
 },
 "nbformat": 4,
 "nbformat_minor": 2
}
